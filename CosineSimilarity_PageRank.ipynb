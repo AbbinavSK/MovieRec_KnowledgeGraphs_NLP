{
  "nbformat": 4,
  "nbformat_minor": 0,
  "metadata": {
    "colab": {
      "provenance": []
    },
    "kernelspec": {
      "name": "python3",
      "display_name": "Python 3"
    },
    "language_info": {
      "name": "python"
    },
    "widgets": {
      "application/vnd.jupyter.widget-state+json": {
        "36790fa42512465baf85408af35a7b94": {
          "model_module": "@jupyter-widgets/controls",
          "model_name": "HBoxModel",
          "model_module_version": "1.5.0",
          "state": {
            "_dom_classes": [],
            "_model_module": "@jupyter-widgets/controls",
            "_model_module_version": "1.5.0",
            "_model_name": "HBoxModel",
            "_view_count": null,
            "_view_module": "@jupyter-widgets/controls",
            "_view_module_version": "1.5.0",
            "_view_name": "HBoxView",
            "box_style": "",
            "children": [
              "IPY_MODEL_79466e9dd5694b6bb5cf1fff1a40c279",
              "IPY_MODEL_9637d9a3a7d9489e95180e48cb9f2994",
              "IPY_MODEL_bce2ed03898144e7a3cb31f36a9fc400"
            ],
            "layout": "IPY_MODEL_9a6f90aea2324336a6179c38e3e64c3d"
          }
        },
        "79466e9dd5694b6bb5cf1fff1a40c279": {
          "model_module": "@jupyter-widgets/controls",
          "model_name": "HTMLModel",
          "model_module_version": "1.5.0",
          "state": {
            "_dom_classes": [],
            "_model_module": "@jupyter-widgets/controls",
            "_model_module_version": "1.5.0",
            "_model_name": "HTMLModel",
            "_view_count": null,
            "_view_module": "@jupyter-widgets/controls",
            "_view_module_version": "1.5.0",
            "_view_name": "HTMLView",
            "description": "",
            "description_tooltip": null,
            "layout": "IPY_MODEL_83c6558629534e16b5d145f89cb1b56e",
            "placeholder": "​",
            "style": "IPY_MODEL_f60909b794244882829a45cbac14394f",
            "value": "Computing transition probabilities: 100%"
          }
        },
        "9637d9a3a7d9489e95180e48cb9f2994": {
          "model_module": "@jupyter-widgets/controls",
          "model_name": "FloatProgressModel",
          "model_module_version": "1.5.0",
          "state": {
            "_dom_classes": [],
            "_model_module": "@jupyter-widgets/controls",
            "_model_module_version": "1.5.0",
            "_model_name": "FloatProgressModel",
            "_view_count": null,
            "_view_module": "@jupyter-widgets/controls",
            "_view_module_version": "1.5.0",
            "_view_name": "ProgressView",
            "bar_style": "success",
            "description": "",
            "description_tooltip": null,
            "layout": "IPY_MODEL_34d1604c4a3b4db1b3cbf86fd2c13be0",
            "max": 4269,
            "min": 0,
            "orientation": "horizontal",
            "style": "IPY_MODEL_2c958beea22e4f6fbddf798fb3900b20",
            "value": 4269
          }
        },
        "bce2ed03898144e7a3cb31f36a9fc400": {
          "model_module": "@jupyter-widgets/controls",
          "model_name": "HTMLModel",
          "model_module_version": "1.5.0",
          "state": {
            "_dom_classes": [],
            "_model_module": "@jupyter-widgets/controls",
            "_model_module_version": "1.5.0",
            "_model_name": "HTMLModel",
            "_view_count": null,
            "_view_module": "@jupyter-widgets/controls",
            "_view_module_version": "1.5.0",
            "_view_name": "HTMLView",
            "description": "",
            "description_tooltip": null,
            "layout": "IPY_MODEL_decf81cce1704fc399ed24409f97d72b",
            "placeholder": "​",
            "style": "IPY_MODEL_d667e96b567e49f4a2dfa0b0650d3928",
            "value": " 4269/4269 [00:00&lt;00:00, 8364.75it/s]"
          }
        },
        "9a6f90aea2324336a6179c38e3e64c3d": {
          "model_module": "@jupyter-widgets/base",
          "model_name": "LayoutModel",
          "model_module_version": "1.2.0",
          "state": {
            "_model_module": "@jupyter-widgets/base",
            "_model_module_version": "1.2.0",
            "_model_name": "LayoutModel",
            "_view_count": null,
            "_view_module": "@jupyter-widgets/base",
            "_view_module_version": "1.2.0",
            "_view_name": "LayoutView",
            "align_content": null,
            "align_items": null,
            "align_self": null,
            "border": null,
            "bottom": null,
            "display": null,
            "flex": null,
            "flex_flow": null,
            "grid_area": null,
            "grid_auto_columns": null,
            "grid_auto_flow": null,
            "grid_auto_rows": null,
            "grid_column": null,
            "grid_gap": null,
            "grid_row": null,
            "grid_template_areas": null,
            "grid_template_columns": null,
            "grid_template_rows": null,
            "height": null,
            "justify_content": null,
            "justify_items": null,
            "left": null,
            "margin": null,
            "max_height": null,
            "max_width": null,
            "min_height": null,
            "min_width": null,
            "object_fit": null,
            "object_position": null,
            "order": null,
            "overflow": null,
            "overflow_x": null,
            "overflow_y": null,
            "padding": null,
            "right": null,
            "top": null,
            "visibility": null,
            "width": null
          }
        },
        "83c6558629534e16b5d145f89cb1b56e": {
          "model_module": "@jupyter-widgets/base",
          "model_name": "LayoutModel",
          "model_module_version": "1.2.0",
          "state": {
            "_model_module": "@jupyter-widgets/base",
            "_model_module_version": "1.2.0",
            "_model_name": "LayoutModel",
            "_view_count": null,
            "_view_module": "@jupyter-widgets/base",
            "_view_module_version": "1.2.0",
            "_view_name": "LayoutView",
            "align_content": null,
            "align_items": null,
            "align_self": null,
            "border": null,
            "bottom": null,
            "display": null,
            "flex": null,
            "flex_flow": null,
            "grid_area": null,
            "grid_auto_columns": null,
            "grid_auto_flow": null,
            "grid_auto_rows": null,
            "grid_column": null,
            "grid_gap": null,
            "grid_row": null,
            "grid_template_areas": null,
            "grid_template_columns": null,
            "grid_template_rows": null,
            "height": null,
            "justify_content": null,
            "justify_items": null,
            "left": null,
            "margin": null,
            "max_height": null,
            "max_width": null,
            "min_height": null,
            "min_width": null,
            "object_fit": null,
            "object_position": null,
            "order": null,
            "overflow": null,
            "overflow_x": null,
            "overflow_y": null,
            "padding": null,
            "right": null,
            "top": null,
            "visibility": null,
            "width": null
          }
        },
        "f60909b794244882829a45cbac14394f": {
          "model_module": "@jupyter-widgets/controls",
          "model_name": "DescriptionStyleModel",
          "model_module_version": "1.5.0",
          "state": {
            "_model_module": "@jupyter-widgets/controls",
            "_model_module_version": "1.5.0",
            "_model_name": "DescriptionStyleModel",
            "_view_count": null,
            "_view_module": "@jupyter-widgets/base",
            "_view_module_version": "1.2.0",
            "_view_name": "StyleView",
            "description_width": ""
          }
        },
        "34d1604c4a3b4db1b3cbf86fd2c13be0": {
          "model_module": "@jupyter-widgets/base",
          "model_name": "LayoutModel",
          "model_module_version": "1.2.0",
          "state": {
            "_model_module": "@jupyter-widgets/base",
            "_model_module_version": "1.2.0",
            "_model_name": "LayoutModel",
            "_view_count": null,
            "_view_module": "@jupyter-widgets/base",
            "_view_module_version": "1.2.0",
            "_view_name": "LayoutView",
            "align_content": null,
            "align_items": null,
            "align_self": null,
            "border": null,
            "bottom": null,
            "display": null,
            "flex": null,
            "flex_flow": null,
            "grid_area": null,
            "grid_auto_columns": null,
            "grid_auto_flow": null,
            "grid_auto_rows": null,
            "grid_column": null,
            "grid_gap": null,
            "grid_row": null,
            "grid_template_areas": null,
            "grid_template_columns": null,
            "grid_template_rows": null,
            "height": null,
            "justify_content": null,
            "justify_items": null,
            "left": null,
            "margin": null,
            "max_height": null,
            "max_width": null,
            "min_height": null,
            "min_width": null,
            "object_fit": null,
            "object_position": null,
            "order": null,
            "overflow": null,
            "overflow_x": null,
            "overflow_y": null,
            "padding": null,
            "right": null,
            "top": null,
            "visibility": null,
            "width": null
          }
        },
        "2c958beea22e4f6fbddf798fb3900b20": {
          "model_module": "@jupyter-widgets/controls",
          "model_name": "ProgressStyleModel",
          "model_module_version": "1.5.0",
          "state": {
            "_model_module": "@jupyter-widgets/controls",
            "_model_module_version": "1.5.0",
            "_model_name": "ProgressStyleModel",
            "_view_count": null,
            "_view_module": "@jupyter-widgets/base",
            "_view_module_version": "1.2.0",
            "_view_name": "StyleView",
            "bar_color": null,
            "description_width": ""
          }
        },
        "decf81cce1704fc399ed24409f97d72b": {
          "model_module": "@jupyter-widgets/base",
          "model_name": "LayoutModel",
          "model_module_version": "1.2.0",
          "state": {
            "_model_module": "@jupyter-widgets/base",
            "_model_module_version": "1.2.0",
            "_model_name": "LayoutModel",
            "_view_count": null,
            "_view_module": "@jupyter-widgets/base",
            "_view_module_version": "1.2.0",
            "_view_name": "LayoutView",
            "align_content": null,
            "align_items": null,
            "align_self": null,
            "border": null,
            "bottom": null,
            "display": null,
            "flex": null,
            "flex_flow": null,
            "grid_area": null,
            "grid_auto_columns": null,
            "grid_auto_flow": null,
            "grid_auto_rows": null,
            "grid_column": null,
            "grid_gap": null,
            "grid_row": null,
            "grid_template_areas": null,
            "grid_template_columns": null,
            "grid_template_rows": null,
            "height": null,
            "justify_content": null,
            "justify_items": null,
            "left": null,
            "margin": null,
            "max_height": null,
            "max_width": null,
            "min_height": null,
            "min_width": null,
            "object_fit": null,
            "object_position": null,
            "order": null,
            "overflow": null,
            "overflow_x": null,
            "overflow_y": null,
            "padding": null,
            "right": null,
            "top": null,
            "visibility": null,
            "width": null
          }
        },
        "d667e96b567e49f4a2dfa0b0650d3928": {
          "model_module": "@jupyter-widgets/controls",
          "model_name": "DescriptionStyleModel",
          "model_module_version": "1.5.0",
          "state": {
            "_model_module": "@jupyter-widgets/controls",
            "_model_module_version": "1.5.0",
            "_model_name": "DescriptionStyleModel",
            "_view_count": null,
            "_view_module": "@jupyter-widgets/base",
            "_view_module_version": "1.2.0",
            "_view_name": "StyleView",
            "description_width": ""
          }
        }
      }
    }
  },
  "cells": [
    {
      "cell_type": "markdown",
      "source": [
        "# NLP Course Project\n",
        "\n",
        "- Team Member 1: Abbinav Sankar Kailasam\n",
        "- Team Memeber 2: Ishaan Reddy\n",
        "- School: Computing and Data Science"
      ],
      "metadata": {
        "id": "ijWj_-fY1UvD"
      }
    },
    {
      "cell_type": "code",
      "source": [
        "!pip install node2vec"
      ],
      "metadata": {
        "colab": {
          "base_uri": "https://localhost:8080/"
        },
        "id": "3sZqSc_zLpcL",
        "outputId": "a4491e25-3d57-4241-f9c1-a80cc23cc892"
      },
      "execution_count": 48,
      "outputs": [
        {
          "output_type": "stream",
          "name": "stdout",
          "text": [
            "Requirement already satisfied: node2vec in /usr/local/lib/python3.10/dist-packages (0.5.0)\n",
            "Requirement already satisfied: gensim<5.0.0,>=4.3.0 in /usr/local/lib/python3.10/dist-packages (from node2vec) (4.3.3)\n",
            "Requirement already satisfied: joblib<2.0.0,>=1.4.0 in /usr/local/lib/python3.10/dist-packages (from node2vec) (1.4.2)\n",
            "Requirement already satisfied: networkx<4.0.0,>=3.1.0 in /usr/local/lib/python3.10/dist-packages (from node2vec) (3.4.2)\n",
            "Requirement already satisfied: numpy<2.0.0,>=1.24.0 in /usr/local/lib/python3.10/dist-packages (from node2vec) (1.26.4)\n",
            "Requirement already satisfied: tqdm<5.0.0,>=4.66.1 in /usr/local/lib/python3.10/dist-packages (from node2vec) (4.66.6)\n",
            "Requirement already satisfied: scipy<1.14.0,>=1.7.0 in /usr/local/lib/python3.10/dist-packages (from gensim<5.0.0,>=4.3.0->node2vec) (1.13.1)\n",
            "Requirement already satisfied: smart-open>=1.8.1 in /usr/local/lib/python3.10/dist-packages (from gensim<5.0.0,>=4.3.0->node2vec) (7.0.5)\n",
            "Requirement already satisfied: wrapt in /usr/local/lib/python3.10/dist-packages (from smart-open>=1.8.1->gensim<5.0.0,>=4.3.0->node2vec) (1.16.0)\n"
          ]
        }
      ]
    },
    {
      "cell_type": "code",
      "execution_count": 49,
      "metadata": {
        "id": "GipZB4MsvJnc"
      },
      "outputs": [],
      "source": [
        "# Import the necessary packages\n",
        "\n",
        "import numpy as np\n",
        "import pandas as pd\n",
        "import matplotlib.pyplot as plt\n",
        "import seaborn as sns\n",
        "\n",
        "import networkx as nx\n",
        "from sklearn.metrics.pairwise import cosine_similarity\n",
        "from gensim.models import Word2Vec\n",
        "from node2vec import Node2Vec\n",
        "\n",
        "np.random.seed(42)"
      ]
    },
    {
      "cell_type": "markdown",
      "source": [
        "## Preprocessing Pipeline"
      ],
      "metadata": {
        "id": "4xYSC0vh1Ra-"
      }
    },
    {
      "cell_type": "code",
      "source": [
        "# Read the csv data files and merge them\n",
        "\n",
        "movies = pd.read_csv(\"/content/movies.csv\")\n",
        "ratings = pd.read_csv(\"/content/ratings.csv\")\n",
        "\n",
        "data = pd.merge(movies, ratings, on=\"movieId\")\n",
        "data = data.drop(columns=[\"timestamp\"])\n",
        "data = data.sample(n=10000)\n",
        "\n",
        "data.head()"
      ],
      "metadata": {
        "colab": {
          "base_uri": "https://localhost:8080/",
          "height": 206
        },
        "id": "FntdLZp70SZs",
        "outputId": "da6297cf-7310-49dc-bfcc-4e9ab6c4bb48"
      },
      "execution_count": 50,
      "outputs": [
        {
          "output_type": "execute_result",
          "data": {
            "text/plain": [
              "       movieId                          title                       genres  \\\n",
              "67037     5418    Bourne Identity, The (2002)      Action|Mystery|Thriller   \n",
              "42175     2329      American History X (1998)                  Crime|Drama   \n",
              "93850    91529  Dark Knight Rises, The (2012)  Action|Adventure|Crime|IMAX   \n",
              "6187       230       Dolores Claiborne (1995)               Drama|Thriller   \n",
              "12229      440                    Dave (1993)               Comedy|Romance   \n",
              "\n",
              "       userId  rating  \n",
              "67037     599     3.0  \n",
              "42175     282     4.5  \n",
              "93850     282     4.0  \n",
              "6187      414     3.0  \n",
              "12229     136     5.0  "
            ],
            "text/html": [
              "\n",
              "  <div id=\"df-cc33b6a9-86f3-4a5d-a766-ff1ad1ce3543\" class=\"colab-df-container\">\n",
              "    <div>\n",
              "<style scoped>\n",
              "    .dataframe tbody tr th:only-of-type {\n",
              "        vertical-align: middle;\n",
              "    }\n",
              "\n",
              "    .dataframe tbody tr th {\n",
              "        vertical-align: top;\n",
              "    }\n",
              "\n",
              "    .dataframe thead th {\n",
              "        text-align: right;\n",
              "    }\n",
              "</style>\n",
              "<table border=\"1\" class=\"dataframe\">\n",
              "  <thead>\n",
              "    <tr style=\"text-align: right;\">\n",
              "      <th></th>\n",
              "      <th>movieId</th>\n",
              "      <th>title</th>\n",
              "      <th>genres</th>\n",
              "      <th>userId</th>\n",
              "      <th>rating</th>\n",
              "    </tr>\n",
              "  </thead>\n",
              "  <tbody>\n",
              "    <tr>\n",
              "      <th>67037</th>\n",
              "      <td>5418</td>\n",
              "      <td>Bourne Identity, The (2002)</td>\n",
              "      <td>Action|Mystery|Thriller</td>\n",
              "      <td>599</td>\n",
              "      <td>3.0</td>\n",
              "    </tr>\n",
              "    <tr>\n",
              "      <th>42175</th>\n",
              "      <td>2329</td>\n",
              "      <td>American History X (1998)</td>\n",
              "      <td>Crime|Drama</td>\n",
              "      <td>282</td>\n",
              "      <td>4.5</td>\n",
              "    </tr>\n",
              "    <tr>\n",
              "      <th>93850</th>\n",
              "      <td>91529</td>\n",
              "      <td>Dark Knight Rises, The (2012)</td>\n",
              "      <td>Action|Adventure|Crime|IMAX</td>\n",
              "      <td>282</td>\n",
              "      <td>4.0</td>\n",
              "    </tr>\n",
              "    <tr>\n",
              "      <th>6187</th>\n",
              "      <td>230</td>\n",
              "      <td>Dolores Claiborne (1995)</td>\n",
              "      <td>Drama|Thriller</td>\n",
              "      <td>414</td>\n",
              "      <td>3.0</td>\n",
              "    </tr>\n",
              "    <tr>\n",
              "      <th>12229</th>\n",
              "      <td>440</td>\n",
              "      <td>Dave (1993)</td>\n",
              "      <td>Comedy|Romance</td>\n",
              "      <td>136</td>\n",
              "      <td>5.0</td>\n",
              "    </tr>\n",
              "  </tbody>\n",
              "</table>\n",
              "</div>\n",
              "    <div class=\"colab-df-buttons\">\n",
              "\n",
              "  <div class=\"colab-df-container\">\n",
              "    <button class=\"colab-df-convert\" onclick=\"convertToInteractive('df-cc33b6a9-86f3-4a5d-a766-ff1ad1ce3543')\"\n",
              "            title=\"Convert this dataframe to an interactive table.\"\n",
              "            style=\"display:none;\">\n",
              "\n",
              "  <svg xmlns=\"http://www.w3.org/2000/svg\" height=\"24px\" viewBox=\"0 -960 960 960\">\n",
              "    <path d=\"M120-120v-720h720v720H120Zm60-500h600v-160H180v160Zm220 220h160v-160H400v160Zm0 220h160v-160H400v160ZM180-400h160v-160H180v160Zm440 0h160v-160H620v160ZM180-180h160v-160H180v160Zm440 0h160v-160H620v160Z\"/>\n",
              "  </svg>\n",
              "    </button>\n",
              "\n",
              "  <style>\n",
              "    .colab-df-container {\n",
              "      display:flex;\n",
              "      gap: 12px;\n",
              "    }\n",
              "\n",
              "    .colab-df-convert {\n",
              "      background-color: #E8F0FE;\n",
              "      border: none;\n",
              "      border-radius: 50%;\n",
              "      cursor: pointer;\n",
              "      display: none;\n",
              "      fill: #1967D2;\n",
              "      height: 32px;\n",
              "      padding: 0 0 0 0;\n",
              "      width: 32px;\n",
              "    }\n",
              "\n",
              "    .colab-df-convert:hover {\n",
              "      background-color: #E2EBFA;\n",
              "      box-shadow: 0px 1px 2px rgba(60, 64, 67, 0.3), 0px 1px 3px 1px rgba(60, 64, 67, 0.15);\n",
              "      fill: #174EA6;\n",
              "    }\n",
              "\n",
              "    .colab-df-buttons div {\n",
              "      margin-bottom: 4px;\n",
              "    }\n",
              "\n",
              "    [theme=dark] .colab-df-convert {\n",
              "      background-color: #3B4455;\n",
              "      fill: #D2E3FC;\n",
              "    }\n",
              "\n",
              "    [theme=dark] .colab-df-convert:hover {\n",
              "      background-color: #434B5C;\n",
              "      box-shadow: 0px 1px 3px 1px rgba(0, 0, 0, 0.15);\n",
              "      filter: drop-shadow(0px 1px 2px rgba(0, 0, 0, 0.3));\n",
              "      fill: #FFFFFF;\n",
              "    }\n",
              "  </style>\n",
              "\n",
              "    <script>\n",
              "      const buttonEl =\n",
              "        document.querySelector('#df-cc33b6a9-86f3-4a5d-a766-ff1ad1ce3543 button.colab-df-convert');\n",
              "      buttonEl.style.display =\n",
              "        google.colab.kernel.accessAllowed ? 'block' : 'none';\n",
              "\n",
              "      async function convertToInteractive(key) {\n",
              "        const element = document.querySelector('#df-cc33b6a9-86f3-4a5d-a766-ff1ad1ce3543');\n",
              "        const dataTable =\n",
              "          await google.colab.kernel.invokeFunction('convertToInteractive',\n",
              "                                                    [key], {});\n",
              "        if (!dataTable) return;\n",
              "\n",
              "        const docLinkHtml = 'Like what you see? Visit the ' +\n",
              "          '<a target=\"_blank\" href=https://colab.research.google.com/notebooks/data_table.ipynb>data table notebook</a>'\n",
              "          + ' to learn more about interactive tables.';\n",
              "        element.innerHTML = '';\n",
              "        dataTable['output_type'] = 'display_data';\n",
              "        await google.colab.output.renderOutput(dataTable, element);\n",
              "        const docLink = document.createElement('div');\n",
              "        docLink.innerHTML = docLinkHtml;\n",
              "        element.appendChild(docLink);\n",
              "      }\n",
              "    </script>\n",
              "  </div>\n",
              "\n",
              "\n",
              "<div id=\"df-3cf43226-0423-464c-905e-503de09acbb9\">\n",
              "  <button class=\"colab-df-quickchart\" onclick=\"quickchart('df-3cf43226-0423-464c-905e-503de09acbb9')\"\n",
              "            title=\"Suggest charts\"\n",
              "            style=\"display:none;\">\n",
              "\n",
              "<svg xmlns=\"http://www.w3.org/2000/svg\" height=\"24px\"viewBox=\"0 0 24 24\"\n",
              "     width=\"24px\">\n",
              "    <g>\n",
              "        <path d=\"M19 3H5c-1.1 0-2 .9-2 2v14c0 1.1.9 2 2 2h14c1.1 0 2-.9 2-2V5c0-1.1-.9-2-2-2zM9 17H7v-7h2v7zm4 0h-2V7h2v10zm4 0h-2v-4h2v4z\"/>\n",
              "    </g>\n",
              "</svg>\n",
              "  </button>\n",
              "\n",
              "<style>\n",
              "  .colab-df-quickchart {\n",
              "      --bg-color: #E8F0FE;\n",
              "      --fill-color: #1967D2;\n",
              "      --hover-bg-color: #E2EBFA;\n",
              "      --hover-fill-color: #174EA6;\n",
              "      --disabled-fill-color: #AAA;\n",
              "      --disabled-bg-color: #DDD;\n",
              "  }\n",
              "\n",
              "  [theme=dark] .colab-df-quickchart {\n",
              "      --bg-color: #3B4455;\n",
              "      --fill-color: #D2E3FC;\n",
              "      --hover-bg-color: #434B5C;\n",
              "      --hover-fill-color: #FFFFFF;\n",
              "      --disabled-bg-color: #3B4455;\n",
              "      --disabled-fill-color: #666;\n",
              "  }\n",
              "\n",
              "  .colab-df-quickchart {\n",
              "    background-color: var(--bg-color);\n",
              "    border: none;\n",
              "    border-radius: 50%;\n",
              "    cursor: pointer;\n",
              "    display: none;\n",
              "    fill: var(--fill-color);\n",
              "    height: 32px;\n",
              "    padding: 0;\n",
              "    width: 32px;\n",
              "  }\n",
              "\n",
              "  .colab-df-quickchart:hover {\n",
              "    background-color: var(--hover-bg-color);\n",
              "    box-shadow: 0 1px 2px rgba(60, 64, 67, 0.3), 0 1px 3px 1px rgba(60, 64, 67, 0.15);\n",
              "    fill: var(--button-hover-fill-color);\n",
              "  }\n",
              "\n",
              "  .colab-df-quickchart-complete:disabled,\n",
              "  .colab-df-quickchart-complete:disabled:hover {\n",
              "    background-color: var(--disabled-bg-color);\n",
              "    fill: var(--disabled-fill-color);\n",
              "    box-shadow: none;\n",
              "  }\n",
              "\n",
              "  .colab-df-spinner {\n",
              "    border: 2px solid var(--fill-color);\n",
              "    border-color: transparent;\n",
              "    border-bottom-color: var(--fill-color);\n",
              "    animation:\n",
              "      spin 1s steps(1) infinite;\n",
              "  }\n",
              "\n",
              "  @keyframes spin {\n",
              "    0% {\n",
              "      border-color: transparent;\n",
              "      border-bottom-color: var(--fill-color);\n",
              "      border-left-color: var(--fill-color);\n",
              "    }\n",
              "    20% {\n",
              "      border-color: transparent;\n",
              "      border-left-color: var(--fill-color);\n",
              "      border-top-color: var(--fill-color);\n",
              "    }\n",
              "    30% {\n",
              "      border-color: transparent;\n",
              "      border-left-color: var(--fill-color);\n",
              "      border-top-color: var(--fill-color);\n",
              "      border-right-color: var(--fill-color);\n",
              "    }\n",
              "    40% {\n",
              "      border-color: transparent;\n",
              "      border-right-color: var(--fill-color);\n",
              "      border-top-color: var(--fill-color);\n",
              "    }\n",
              "    60% {\n",
              "      border-color: transparent;\n",
              "      border-right-color: var(--fill-color);\n",
              "    }\n",
              "    80% {\n",
              "      border-color: transparent;\n",
              "      border-right-color: var(--fill-color);\n",
              "      border-bottom-color: var(--fill-color);\n",
              "    }\n",
              "    90% {\n",
              "      border-color: transparent;\n",
              "      border-bottom-color: var(--fill-color);\n",
              "    }\n",
              "  }\n",
              "</style>\n",
              "\n",
              "  <script>\n",
              "    async function quickchart(key) {\n",
              "      const quickchartButtonEl =\n",
              "        document.querySelector('#' + key + ' button');\n",
              "      quickchartButtonEl.disabled = true;  // To prevent multiple clicks.\n",
              "      quickchartButtonEl.classList.add('colab-df-spinner');\n",
              "      try {\n",
              "        const charts = await google.colab.kernel.invokeFunction(\n",
              "            'suggestCharts', [key], {});\n",
              "      } catch (error) {\n",
              "        console.error('Error during call to suggestCharts:', error);\n",
              "      }\n",
              "      quickchartButtonEl.classList.remove('colab-df-spinner');\n",
              "      quickchartButtonEl.classList.add('colab-df-quickchart-complete');\n",
              "    }\n",
              "    (() => {\n",
              "      let quickchartButtonEl =\n",
              "        document.querySelector('#df-3cf43226-0423-464c-905e-503de09acbb9 button');\n",
              "      quickchartButtonEl.style.display =\n",
              "        google.colab.kernel.accessAllowed ? 'block' : 'none';\n",
              "    })();\n",
              "  </script>\n",
              "</div>\n",
              "\n",
              "    </div>\n",
              "  </div>\n"
            ],
            "application/vnd.google.colaboratory.intrinsic+json": {
              "type": "dataframe",
              "variable_name": "data",
              "summary": "{\n  \"name\": \"data\",\n  \"rows\": 10000,\n  \"fields\": [\n    {\n      \"column\": \"movieId\",\n      \"properties\": {\n        \"dtype\": \"number\",\n        \"std\": 35119,\n        \"min\": 1,\n        \"max\": 190209,\n        \"num_unique_values\": 3648,\n        \"samples\": [\n          1584,\n          1399,\n          3224\n        ],\n        \"semantic_type\": \"\",\n        \"description\": \"\"\n      }\n    },\n    {\n      \"column\": \"title\",\n      \"properties\": {\n        \"dtype\": \"category\",\n        \"num_unique_values\": 3647,\n        \"samples\": [\n          \"As Good as It Gets (1997)\",\n          \"Carrie (1976)\",\n          \"House Arrest (1996)\"\n        ],\n        \"semantic_type\": \"\",\n        \"description\": \"\"\n      }\n    },\n    {\n      \"column\": \"genres\",\n      \"properties\": {\n        \"dtype\": \"category\",\n        \"num_unique_values\": 623,\n        \"samples\": [\n          \"Action|Adventure|Western\",\n          \"Comedy|Crime|Drama|War\",\n          \"Action|Crime|Sci-Fi\"\n        ],\n        \"semantic_type\": \"\",\n        \"description\": \"\"\n      }\n    },\n    {\n      \"column\": \"userId\",\n      \"properties\": {\n        \"dtype\": \"number\",\n        \"std\": 183,\n        \"min\": 1,\n        \"max\": 610,\n        \"num_unique_values\": 601,\n        \"samples\": [\n          501,\n          99,\n          281\n        ],\n        \"semantic_type\": \"\",\n        \"description\": \"\"\n      }\n    },\n    {\n      \"column\": \"rating\",\n      \"properties\": {\n        \"dtype\": \"number\",\n        \"std\": 1.0511707073475995,\n        \"min\": 0.5,\n        \"max\": 5.0,\n        \"num_unique_values\": 10,\n        \"samples\": [\n          0.5,\n          4.5,\n          2.5\n        ],\n        \"semantic_type\": \"\",\n        \"description\": \"\"\n      }\n    }\n  ]\n}"
            }
          },
          "metadata": {},
          "execution_count": 50
        }
      ]
    },
    {
      "cell_type": "markdown",
      "source": [
        "## Building the Graph Network for Movie Recommendation"
      ],
      "metadata": {
        "id": "QZNvMgik1qa5"
      }
    },
    {
      "cell_type": "code",
      "source": [
        "G = nx.MultiDiGraph()\n",
        "\n",
        "# Add nodes and edges from the merged dataframe\n",
        "for _, row in data.iterrows():\n",
        "    user_id = f\"user_{row['userId']}\"  # Prefix to distinguish users\n",
        "    movie_id = f\"movie_{row['movieId']}\"  # Prefix to distinguish movies\n",
        "    genres = row['genres'].split('|')\n",
        "\n",
        "    # Add user and movie nodes\n",
        "    G.add_node(user_id, label='User')\n",
        "    G.add_node(movie_id, label='Movie', title=row['title'])\n",
        "\n",
        "    # Add edge for the user's rating of the movie and interaction\n",
        "    G.add_edge(user_id, movie_id, relation='rates', weight=row['rating'])\n",
        "    G.add_edge(user_id, movie_id, relation='interaction', weight=1)\n",
        "\n",
        "    for genre in genres:\n",
        "        genre_node = f\"genre_{genre}\"\n",
        "        G.add_node(genre_node, label='Genre')\n",
        "        G.add_edge(movie_id, genre_node, relation='belongs_to', weight=1)"
      ],
      "metadata": {
        "id": "zpjTbVa2aqUw"
      },
      "execution_count": 51,
      "outputs": []
    },
    {
      "cell_type": "markdown",
      "source": [
        "## Ranking Recommendations based on cosine similarity"
      ],
      "metadata": {
        "id": "0socMczs1whb"
      }
    },
    {
      "cell_type": "code",
      "source": [
        "# Generate embeddings using Node2Vec\n",
        "\n",
        "node2vec = Node2Vec(G, dimensions=64, walk_length=10, num_walks=100, workers=4)\n",
        "model = node2vec.fit(window=10, min_count=1, batch_words=4)\n",
        "\n",
        "embeddings = {node: model.wv[node] for node in G.nodes()}"
      ],
      "metadata": {
        "id": "MTxp-gmBLhS1",
        "colab": {
          "base_uri": "https://localhost:8080/",
          "height": 49,
          "referenced_widgets": [
            "36790fa42512465baf85408af35a7b94",
            "79466e9dd5694b6bb5cf1fff1a40c279",
            "9637d9a3a7d9489e95180e48cb9f2994",
            "bce2ed03898144e7a3cb31f36a9fc400",
            "9a6f90aea2324336a6179c38e3e64c3d",
            "83c6558629534e16b5d145f89cb1b56e",
            "f60909b794244882829a45cbac14394f",
            "34d1604c4a3b4db1b3cbf86fd2c13be0",
            "2c958beea22e4f6fbddf798fb3900b20",
            "decf81cce1704fc399ed24409f97d72b",
            "d667e96b567e49f4a2dfa0b0650d3928"
          ]
        },
        "outputId": "d7737865-12a0-46ad-e3eb-129704550283"
      },
      "execution_count": 52,
      "outputs": [
        {
          "output_type": "display_data",
          "data": {
            "text/plain": [
              "Computing transition probabilities:   0%|          | 0/4269 [00:00<?, ?it/s]"
            ],
            "application/vnd.jupyter.widget-view+json": {
              "version_major": 2,
              "version_minor": 0,
              "model_id": "36790fa42512465baf85408af35a7b94"
            }
          },
          "metadata": {}
        }
      ]
    },
    {
      "cell_type": "code",
      "source": [
        "# Function to rank movies for a user using cosine similarity\n",
        "def cosine_rank_movies(user_id, candidate_movies, embeddings, top_k=5):\n",
        "    user_node = f\"user_{user_id}\"\n",
        "    if user_node not in embeddings:\n",
        "        return []  # Return empty if no embeddings for user\n",
        "\n",
        "    user_vec = embeddings[user_node]\n",
        "\n",
        "    movie_scores = []\n",
        "    for movie_id in candidate_movies:\n",
        "        movie_node = f\"movie_{movie_id}\"\n",
        "        if movie_node in embeddings:\n",
        "            movie_vec = embeddings[movie_node]\n",
        "            score = cosine_similarity([user_vec], [movie_vec])[0][0]\n",
        "            movie_scores.append((movie_id, score))\n",
        "\n",
        "    # Sort movies by similarity score and return top K\n",
        "    ranked_movies = sorted(movie_scores, key=lambda x: x[1], reverse=True)\n",
        "\n",
        "    return [movie for movie, _ in ranked_movies[:top_k]]"
      ],
      "metadata": {
        "id": "srmdREXyheD5"
      },
      "execution_count": 53,
      "outputs": []
    },
    {
      "cell_type": "code",
      "source": [
        "unique_movies = data['movieId'].unique()\n",
        "movie_title = movies.set_index('movieId')['title'].to_dict()"
      ],
      "metadata": {
        "id": "YiQzzPLwkBCb"
      },
      "execution_count": 54,
      "outputs": []
    },
    {
      "cell_type": "code",
      "source": [
        "# Generate recommendations for all users using cosine similarity\n",
        "all_user_ids = data['userId'].unique()[:20]\n",
        "\n",
        "user_recommendations = {\n",
        "    user_id: [movie_title[int(movie_id)] for movie_id in cosine_rank_movies(user_id, unique_movies, embeddings, top_k=5)]\n",
        "    for user_id in all_user_ids\n",
        "}\n",
        "\n",
        "for user_id, movie_titles in user_recommendations.items():\n",
        "    print(f\"User {user_id}: Recommended Movies: {movie_titles}\")"
      ],
      "metadata": {
        "colab": {
          "base_uri": "https://localhost:8080/"
        },
        "id": "eTHpOghkq-oj",
        "outputId": "587c9fee-5395-40fa-d4f1-2f83c29b5b8f"
      },
      "execution_count": 55,
      "outputs": [
        {
          "output_type": "stream",
          "name": "stdout",
          "text": [
            "User 599: Recommended Movies: ['Rocketeer, The (1991)', 'X-Men: Days of Future Past (2014)', 'Mad Max (1979)', 'Valerian and the City of a Thousand Planets (2017)', 'Star Trek Beyond (2016)']\n",
            "User 282: Recommended Movies: ['Avatar (2009)', 'Oblivion (2013)', 'Gravity (2013)', \"Ender's Game (2013)\", 'Raiders of the Lost Ark (Indiana Jones and the Raiders of the Lost Ark) (1981)']\n",
            "User 414: Recommended Movies: ['Bad Girls (1994)', 'Pale Rider (1985)', 'Rio Bravo (1959)', 'Little Big Man (1970)', 'Open Range (2003)']\n",
            "User 136: Recommended Movies: ['Aladdin (1992)', 'Ice Age (2002)', 'Home Alone (1990)', 'Wallace & Gromit: The Wrong Trousers (1993)', 'Finding Nemo (2003)']\n",
            "User 58: Recommended Movies: ['Wyatt Earp (1994)', 'In Crowd, The (2000)', 'Rio Bravo (1959)', 'Maverick (1994)', 'Road Trip (2000)']\n",
            "User 448: Recommended Movies: ['Battlefield Earth (2000)', 'Highlander II: The Quickening (1991)', 'Beneath the Planet of the Apes (1970)', 'Mission to Mars (2000)', 'When Worlds Collide (1951)']\n",
            "User 562: Recommended Movies: ['Good Will Hunting (1997)', 'American Beauty (1999)', 'Phenomenon (1996)', 'Beautiful Mind, A (2001)', 'I.Q. (1994)']\n",
            "User 436: Recommended Movies: ['Jack Frost (1998)', '101 Dalmatians (One Hundred and One Dalmatians) (1961)', 'Black Beauty (1994)', 'Angels in the Outfield (1994)', 'Babe (1995)']\n",
            "User 357: Recommended Movies: ['Forgetting Sarah Marshall (2008)', 'Ace Ventura: When Nature Calls (1995)', 'Pearl Jam Twenty (2011)', '10 Things I Hate About You (1999)', 'Love Letter, The (1999)']\n",
            "User 391: Recommended Movies: ['Fistful of Dollars, A (Per un pugno di dollari) (1964)', 'Predestination (2014)', 'Rio Bravo (1959)', 'Good, the Bad and the Ugly, The (Buono, il brutto, il cattivo, Il) (1966)', 'Butch Cassidy and the Sundance Kid (1969)']\n",
            "User 480: Recommended Movies: ['Capturing the Friedmans (2003)', 'Aileen: Life and Death of a Serial Killer (2003)', 'Born into Brothels (2004)', 'Sunless (Sans Soleil) (1983)', 'Unzipped (1995)']\n",
            "User 342: Recommended Movies: ['Girl with the Dragon Tattoo, The (2011)', 'Departed, The (2006)', 'Ransom (1996)', '16 Blocks (2006)', 'Corbeau, Le (Raven, The) (1943)']\n",
            "User 59: Recommended Movies: ['L.A. Confidential (1997)', 'Maltese Falcon, The (1941)', 'Third Man, The (1949)', 'Chinatown (1974)', 'Courage Under Fire (1996)']\n",
            "User 72: Recommended Movies: ['Forrest Gump (1994)', 'Mummy, The (1959)', 'Battle of Algiers, The (La battaglia di Algeri) (1966)', \"Rosemary's Baby (1968)\", 'Life Is Beautiful (La Vita è bella) (1997)']\n",
            "User 425: Recommended Movies: ['Matrix Revolutions, The (2003)', 'The Imitation Game (2014)', 'Dunkirk (2017)', 'Legends of the Fall (1994)', 'Cowboys & Aliens (2011)']\n",
            "User 63: Recommended Movies: ['Inglourious Basterds (2009)', 'The Imitation Game (2014)', 'Natural Born Killers (1994)', 'Dunkirk (2017)', 'Behind Enemy Lines (2001)']\n",
            "User 603: Recommended Movies: ['Ice Storm, The (1997)', 'Casablanca (1942)', '39 Steps, The (1935)', 'Girl, Interrupted (1999)', 'Driving Miss Daisy (1989)']\n",
            "User 566: Recommended Movies: ['American Beauty (1999)', 'Life Is Beautiful (La Vita è bella) (1997)', 'Battle of Algiers, The (La battaglia di Algeri) (1966)', 'Ace Ventura: When Nature Calls (1995)', \"Amelie (Fabuleux destin d'Amélie Poulain, Le) (2001)\"]\n",
            "User 551: Recommended Movies: ['Harry Potter and the Goblet of Fire (2005)', 'How to Train Your Dragon (2010)', 'Matrix Revolutions, The (2003)', 'Lord of the Rings: The Return of the King, The (2003)', 'Up (2009)']\n",
            "User 354: Recommended Movies: [\"City Slickers II: The Legend of Curly's Gold (1994)\", 'Shanghai Noon (2000)', 'Maverick (1994)', 'Good, the Bad and the Ugly, The (Buono, il brutto, il cattivo, Il) (1966)', 'Dances with Wolves (1990)']\n"
          ]
        }
      ]
    },
    {
      "cell_type": "markdown",
      "source": [
        "## Ranking Recommendations based on pagerank"
      ],
      "metadata": {
        "id": "HjRd_KmA3nKW"
      }
    },
    {
      "cell_type": "code",
      "source": [
        "# Function to rank movies for a user using pagerank\n",
        "def pagerank_rank_movies(G, user_id, top_k=5):\n",
        "    personalization = {node: 0 for node in G.nodes()}\n",
        "    user_node = f\"user_{user_id}\"\n",
        "\n",
        "    if user_node not in G:\n",
        "        return []  # Return empty if no embeddings for user\n",
        "\n",
        "    personalization[user_node] = 1  # Focus on the current user\n",
        "\n",
        "    pagerank_scores = nx.pagerank(G, personalization=personalization, alpha=0.85)\n",
        "    movie_scores = {node: score for node, score in pagerank_scores.items() if node.startswith(\"movie_\")}\n",
        "    ranked_movies = sorted(movie_scores.items(), key=lambda x: x[1], reverse=True)\n",
        "\n",
        "    return [int(movie.replace(\"movie_\", \"\")) for movie, _ in ranked_movies[:top_k]]"
      ],
      "metadata": {
        "id": "xUjR-hTh7OG_"
      },
      "execution_count": 56,
      "outputs": []
    },
    {
      "cell_type": "code",
      "source": [
        "# Generate recommendations for all users using pagerank\n",
        "user_recommendations = {\n",
        "    user_id: [movie_title[movie_id] for movie_id in pagerank_rank_movies(G, user_id, top_k=5)]\n",
        "    for user_id in all_user_ids\n",
        "}\n",
        "\n",
        "for user_id, movie_titles in user_recommendations.items():\n",
        "    print(f\"User {user_id}: Recommended Movies: {movie_titles}\")"
      ],
      "metadata": {
        "colab": {
          "base_uri": "https://localhost:8080/"
        },
        "id": "_zWk-eoMhjJZ",
        "outputId": "875c7c8c-d321-472f-e134-0c3561f8c3d7"
      },
      "execution_count": 57,
      "outputs": [
        {
          "output_type": "stream",
          "name": "stdout",
          "text": [
            "User 599: Recommended Movies: ['Star Wars: Episode IV - A New Hope (1977)', 'Dr. Strangelove or: How I Learned to Stop Worrying and Love the Bomb (1964)', 'Star Wars: Episode VI - Return of the Jedi (1983)', 'Star Wars: Episode V - The Empire Strikes Back (1980)', 'Terminator 2: Judgment Day (1991)']\n",
            "User 282: Recommended Movies: ['Back to the Future (1985)', 'Fear and Loathing in Las Vegas (1998)', 'American History X (1998)', 'Terminator 2: Judgment Day (1991)', 'Apollo 13 (1995)']\n",
            "User 414: Recommended Movies: ['Volunteers (1985)', 'Lord of the Rings: The Fellowship of the Ring, The (2001)', 'Great Escape, The (1963)', 'Chinatown (1974)', 'Terminator 2: Judgment Day (1991)']\n",
            "User 136: Recommended Movies: ['Dave (1993)', \"What's Eating Gilbert Grape (1993)\", 'Broken Arrow (1996)', 'Aladdin (1992)', 'Batman Forever (1995)']\n",
            "User 58: Recommended Movies: ['Murder in the First (1995)', 'Speed (1994)', 'Tommy Boy (1995)', 'Much Ado About Nothing (1993)', 'Dave (1993)']\n",
            "User 448: Recommended Movies: ['Bedknobs and Broomsticks (1971)', 'Star Wars: Episode V - The Empire Strikes Back (1980)', \"Bill & Ted's Excellent Adventure (1989)\", 'Poseidon Adventure, The (1972)', 'Caddyshack (1980)']\n",
            "User 562: Recommended Movies: ['Beautiful Mind, A (2001)', 'As Good as It Gets (1997)', 'Slumdog Millionaire (2008)', 'Truman Show, The (1998)', 'Let the Right One In (Låt den rätte komma in) (2008)']\n",
            "User 436: Recommended Movies: ['Black Beauty (1994)', 'Pocahontas (1995)', 'Toy Story (1995)', 'Ed Wood (1994)', 'Little Women (1994)']\n",
            "User 357: Recommended Movies: [\"Schindler's List (1993)\", 'Dead Poets Society (1989)', 'Harry Potter and the Deathly Hallows: Part 1 (2010)', 'Gone Baby Gone (2007)', 'Shining, The (1980)']\n",
            "User 391: Recommended Movies: ['Lone Star (1996)', 'Bullets Over Broadway (1994)', 'Reservoir Dogs (1992)', 'Princess Bride, The (1987)', 'Memento (2000)']\n",
            "User 480: Recommended Movies: ['Talladega Nights: The Ballad of Ricky Bobby (2006)', 'Annie Hall (1977)', 'Royal Tenenbaums, The (2001)', 'Alien (1979)', '12 Angry Men (1957)']\n",
            "User 342: Recommended Movies: ['Instinct (1999)', 'Boiler Room (2000)', 'Rock, The (1996)', 'Entrapment (1999)', \"Boys Don't Cry (1999)\"]\n",
            "User 59: Recommended Movies: ['Killing, The (1956)', 'English Patient, The (1996)', 'Third Man, The (1949)', 'Doctor Zhivago (1965)', 'Modern Times (1936)']\n",
            "User 72: Recommended Movies: [\"Amelie (Fabuleux destin d'Amélie Poulain, Le) (2001)\", 'Braveheart (1995)', 'Mummy, The (1959)', 'Doors, The (1991)', 'Nutty Professor, The (1963)']\n",
            "User 425: Recommended Movies: ['Lord of the Rings: The Two Towers, The (2002)', \"Schindler's List (1993)\", 'Beautiful Mind, A (2001)', 'Birdcage, The (1996)', 'Gattaca (1997)']\n",
            "User 63: Recommended Movies: ['Apocalypse Now (1979)', 'Run Lola Run (Lola rennt) (1998)', 'Godfather, The (1972)', 'Seven (a.k.a. Se7en) (1995)', 'Four Weddings and a Funeral (1994)']\n",
            "User 603: Recommended Movies: ['Orlando (1992)', 'Citizen Kane (1941)', 'Sixth Sense, The (1999)', 'Casablanca (1942)', 'Deer Hunter, The (1978)']\n",
            "User 566: Recommended Movies: ['American President, The (1995)', 'Interview with the Vampire: The Vampire Chronicles (1994)', \"Schindler's List (1993)\", 'I.Q. (1994)', 'Get Shorty (1995)']\n",
            "User 551: Recommended Movies: ['Rogue One: A Star Wars Story (2016)', 'WALL·E (2008)', 'Spectre (2015)', 'Die Hard 2 (1990)', 'Shrek (2001)']\n",
            "User 354: Recommended Movies: ['RoboCop (1987)', \"Amelie (Fabuleux destin d'Amélie Poulain, Le) (2001)\", 'Spider-Man (2002)', \"You've Got Mail (1998)\", 'Four Weddings and a Funeral (1994)']\n"
          ]
        }
      ]
    },
    {
      "cell_type": "code",
      "source": [
        "def precision_recall_k(ranked_movies, ground_truth, k=5):\n",
        "\n",
        "    # Take top-K recommendations\n",
        "    top_k = set(ranked_movies[:k])\n",
        "    relevant_movies = set(ground_truth)\n",
        "\n",
        "    if not relevant_movies:\n",
        "        return 0.0, 0.0  # Avoid division by zero if no relevant movies\n",
        "\n",
        "    # Calculate true positives\n",
        "    true_positives = top_k & relevant_movies\n",
        "\n",
        "    # Calculate precision and recall\n",
        "    precision = len(true_positives) / k\n",
        "    recall = len(true_positives) / len(relevant_movies)\n",
        "\n",
        "    return precision, recall"
      ],
      "metadata": {
        "id": "9me35tfSxPti"
      },
      "execution_count": 58,
      "outputs": []
    },
    {
      "cell_type": "markdown",
      "source": [
        "## Results"
      ],
      "metadata": {
        "id": "yEZ6rFbI3b0L"
      }
    },
    {
      "cell_type": "code",
      "source": [
        "# Calculating the precision and recall for cs & pr ranking methods\n",
        "\n",
        "pagerank_precision, pagerank_recall = [], []\n",
        "cosine_precision, cosine_recall = [], []\n",
        "\n",
        "for user_id in all_user_ids:\n",
        "    ground_truth = data[data['userId'] == user_id]['movieId'].tolist()\n",
        "\n",
        "    pagerank_recommendations = pagerank_rank_movies(G, user_id, top_k=5)\n",
        "    cosine_recommendations = cosine_rank_movies(user_id, unique_movies, embeddings, top_k=5)\n",
        "\n",
        "    pr_prec, pr_rec = precision_recall_k(pagerank_recommendations, ground_truth, k=5)\n",
        "    pagerank_precision.append(pr_prec)\n",
        "    pagerank_recall.append(pr_rec)\n",
        "\n",
        "    cs_prec, cs_rec = precision_recall_k(cosine_recommendations, ground_truth, k=5)\n",
        "    cosine_precision.append(cs_prec)\n",
        "    cosine_recall.append(cs_rec)\n",
        "\n",
        "avg_pagerank_precision = sum(pagerank_precision) / len(pagerank_precision)\n",
        "avg_pagerank_recall = sum(pagerank_recall) / len(pagerank_recall)\n",
        "\n",
        "avg_cosine_precision = sum(cosine_precision) / len(cosine_precision)\n",
        "avg_cosine_recall = sum(cosine_recall) / len(cosine_recall)\n",
        "\n",
        "print(f\"PageRank - Precision: {avg_pagerank_precision:.2f}, Recall: {avg_pagerank_recall:.2f}\")\n",
        "print(f\"Cosine Similarity - Precision: {avg_cosine_precision:.2f}, Recall: {avg_cosine_recall:.2f}\")"
      ],
      "metadata": {
        "colab": {
          "base_uri": "https://localhost:8080/"
        },
        "id": "nZi4a3_pxiAH",
        "outputId": "c8dfef8e-2e83-42f4-915c-f4b24c2123ce"
      },
      "execution_count": 59,
      "outputs": [
        {
          "output_type": "stream",
          "name": "stdout",
          "text": [
            "PageRank - Precision: 1.00, Recall: 0.32\n",
            "Cosine Similarity - Precision: 0.14, Recall: 0.05\n"
          ]
        }
      ]
    }
  ]
}
